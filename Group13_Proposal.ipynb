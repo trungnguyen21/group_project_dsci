{
 "cells": [
  {
   "cell_type": "code",
   "execution_count": null,
   "id": "bb700e50-e237-455f-9e7a-2e2f9a97feef",
   "metadata": {},
   "outputs": [],
   "source": [
    "print(he"
   ]
  }
 ],
 "metadata": {
  "kernelspec": {
   "display_name": "R",
   "language": "R",
   "name": "ir"
  },
  "language_info": {
   "codemirror_mode": "r",
   "file_extension": ".r",
   "mimetype": "text/x-r-source",
   "name": "R",
   "pygments_lexer": "r",
   "version": "4.3.1"
  }
 },
 "nbformat": 4,
 "nbformat_minor": 5
}
